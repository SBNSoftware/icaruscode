{
 "cells": [
  {
   "cell_type": "code",
   "execution_count": null,
   "id": "ad52824d",
   "metadata": {},
   "outputs": [],
   "source": [
    "import uproot\n",
    "import matplotlib.pyplot as plt\n",
    "import matplotlib.colors as colors\n",
    "import matplotlib.cbook as cbook\n",
    "import numpy as np\n",
    "import pandas as pd\n",
    "from decimal import Decimal\n",
    "from scipy.stats import norm\n",
    "from scipy.optimize import curve_fit\n",
    "from scipy import stats"
   ]
  },
  {
   "cell_type": "code",
   "execution_count": null,
   "id": "fc7efa05",
   "metadata": {},
   "outputs": [],
   "source": [
    "savedir = \"/icarus/app/users/gputnam/calib/plots/\"\n",
    "dosave=True"
   ]
  },
  {
   "cell_type": "code",
   "execution_count": null,
   "id": "819672fc",
   "metadata": {},
   "outputs": [],
   "source": [
    "branches = [\n",
    "    \"meta.run\",\n",
    "    \"meta.evt\",\n",
    "    \"meta.iproc\",\n",
    "    \"t0\",\n",
    "    \"id\",\n",
    "    \"clear_cosmic_muon\",\n",
    "    \"start_x\",\n",
    "    \"start_y\",\n",
    "    \"start_z\",\n",
    "    \"end_x\",\n",
    "    \"end_y\",\n",
    "    \"end_z\",\n",
    "    \"dir_x\",\n",
    "    \"dir_y\",\n",
    "    \"dir_z\",\n",
    "    \"hit_min_time_p2_tpcE\",\n",
    "    \"hit_max_time_p2_tpcE\",\n",
    "    \"hit_min_time_p2_tpcW\",\n",
    "    \"hit_max_time_p2_tpcW\"\n",
    "]"
   ]
  },
  {
   "cell_type": "code",
   "execution_count": null,
   "id": "3c59a7e7",
   "metadata": {},
   "outputs": [],
   "source": [
    "# fname = \"icarus.root\"\n",
    "fname = \"/icarus/app/users/gputnam/calib/proc/caloanaout_run5458_N1000_procF_all.root\"\n",
    "folderE = \"caloanaCryoE\"\n",
    "folderW = \"caloanaCryoW\"\n",
    "tname = \"GCalorimetryAnalyzer\"\n",
    "\n",
    "treeE = uproot.open(fname)[folderE][tname]\n",
    "data = treeE.arrays(branches, library=\"pd\")"
   ]
  },
  {
   "cell_type": "code",
   "execution_count": null,
   "id": "dc40b6d0",
   "metadata": {},
   "outputs": [],
   "source": [
    "data"
   ]
  },
  {
   "cell_type": "code",
   "execution_count": null,
   "id": "1688562c",
   "metadata": {},
   "outputs": [],
   "source": [
    "#vdrift = 0.1574 # cm / us\n",
    "#driftV = 0.156267 # cm / us\n",
    "\n",
    "\n",
    "a2c_dist = 148.275 # cm\n",
    "tanode = 850 # ticks\n",
    "tick_period = 400 # ns\n",
    "NTICKS = 4096 # ticks"
   ]
  },
  {
   "cell_type": "code",
   "execution_count": null,
   "id": "bcdf21ba",
   "metadata": {},
   "outputs": [],
   "source": [
    "deltat_E = data.hit_max_time_p2_tpcE - data.hit_min_time_p2_tpcE\n",
    "deltat_W = data.hit_max_time_p2_tpcW - data.hit_min_time_p2_tpcW"
   ]
  },
  {
   "cell_type": "code",
   "execution_count": null,
   "id": "1baa0966",
   "metadata": {},
   "outputs": [],
   "source": [
    "# define the fit function\n",
    "def fit_readout_window(tick, *p):\n",
    "    N = p[0]\n",
    "    sigma = p[1]\n",
    "    center = p[2]\n",
    "    beta = p[3]\n",
    "    m = p[4]\n",
    "    return N*stats.crystalball.pdf(tick, beta, m, center, sigma)"
   ]
  },
  {
   "cell_type": "code",
   "execution_count": null,
   "id": "4e36de04",
   "metadata": {},
   "outputs": [],
   "source": [
    "bins = np.linspace(2200, 2500, 61)\n",
    "#bins=None\n",
    "NEE,_,_ = plt.hist(deltat_E, bins=bins, histtype=\"step\", label=\"TPC EE Data\", linewidth=2)\n",
    "\n",
    "bin_center = (bins[1:] + bins[:-1]) / 2.\n",
    "points = np.linspace(bins[0], bins[-1], 101)\n",
    "\n",
    "#_ = plt.axline((deltat, 0), (deltat, np.max(N)), color=\"r\")\n",
    "\n",
    "p0 = [3000, 10, 2300., 1, 2.]\n",
    "popt, _ = curve_fit(fit_readout_window, bin_center, NEE, p0=p0)\n",
    "plt.plot(points, fit_readout_window(points, *popt), label=\"TPC EE Fit\")\n",
    "drift_length_EE = popt[2]\n",
    "\n",
    "NEW,_,_ = plt.hist(deltat_W, bins=bins, histtype=\"step\", label=\"TPC EW\", linewidth=2)\n",
    "\n",
    "p0 = [5e5, 10, 2300., 1, 2.]\n",
    "popt, _ = curve_fit(fit_readout_window, bin_center, NEW, p0=p0, maxfev=int(1e5))\n",
    "plt.plot(points, fit_readout_window(points, *popt), label=\"TPC EW Fit\")\n",
    "drift_length_EW = popt[2]\n",
    "\n",
    "# drift_length_EE = bin_center[np.argmax(NEE)]\n",
    "# drift_length_EW = bin_center[np.argmax(NEW)]\n",
    "drift_vel_EE = a2c_dist / (drift_length_EE * tick_period/1e3)\n",
    "drift_vel_EW = a2c_dist / (drift_length_EW * tick_period/1e3)\n",
    "\n",
    "handles, labels = plt.gca().get_legend_handles_labels()\n",
    "order = [2,0,3,1]\n",
    "plt.legend([handles[idx] for idx in order],[labels[idx] for idx in order])\n",
    "\n",
    "plt.text(0.65, 0.2, \"TPC EE Drift V:\\n%.4f cm/$\\\\mu$s\\n\\nTPC WW Drift V:\\n%.4f cm/$\\\\mu$s\" % (drift_vel_EE, drift_vel_EW), transform=plt.gca().transAxes, fontsize=14)\n",
    "\n",
    "plt.ylabel(\"Tracks\")\n",
    "plt.xlabel(\"Track Hit Time Difference [ticks]\")\n",
    "\n",
    "if dosave: plt.savefig(savedir + \"track_drift_dist.png\")"
   ]
  },
  {
   "cell_type": "code",
   "execution_count": null,
   "id": "829eb130",
   "metadata": {},
   "outputs": [],
   "source": [
    "deltat_cut = 2340\n",
    "tcathode_EE = tanode + drift_length_EE\n",
    "tcathode_EW = tanode + drift_length_EW\n",
    "print(tcathode_EE, tcathode_EW)"
   ]
  },
  {
   "cell_type": "code",
   "execution_count": null,
   "id": "e0042d53",
   "metadata": {},
   "outputs": [],
   "source": [
    "var = data.hit_max_time_p2_tpcE - data.hit_max_time_p2_tpcW\n",
    "\n",
    "bins = np.linspace(-100, 100, 41)\n",
    "\n",
    "N,_,_ = plt.hist(var, bins=bins, label=\"Data\")\n",
    "plt.xlabel(\"EE TPC Max Time - EW TPC Max Time [ticks]\")\n",
    "plt.ylabel(\"Cathode Crossing Tracks\")\n",
    "bin_centers = (bins[1:] + bins[:-1]) / 2.\n",
    "\n",
    "def gauss(x, *p):\n",
    "    A, mu, sigma = p\n",
    "    return A * np.exp(-(x-mu)**2/(2*sigma**2))\n",
    "\n",
    "p0 = [1., 0., 1.]\n",
    "\n",
    "when_fit = (bin_centers > -25) & (bin_centers < 25)\n",
    "\n",
    "coeff, var_matrix = curve_fit(gauss, bin_centers[when_fit], N[when_fit], p0=p0)\n",
    "print(coeff)\n",
    "\n",
    "plt.plot(bin_centers, gauss(bin_centers, *coeff), label=\"Gaussian Fit\")\n",
    "plt.legend()\n",
    "\n",
    "tpc_toff = coeff[1]\n",
    "\n",
    "plt.text(0.65, 0.6, \"Offset:\\n%.2f ticks\" % tpc_toff, transform=plt.gca().transAxes, fontsize=14)\n",
    "\n",
    "if dosave: plt.savefig(savedir + \"cathode_crossing_tracks_toff.png\")"
   ]
  },
  {
   "cell_type": "code",
   "execution_count": null,
   "id": "717c6b7d",
   "metadata": {},
   "outputs": [],
   "source": [
    "tpcE_is_best = deltat_E > deltat_W\n",
    "toff_besttpc = data.hit_min_time_p2_tpcW - tanode\n",
    "toff_besttpc[tpcE_is_best] =  data.hit_min_time_p2_tpcE - tanode\n",
    "\n",
    "deltat_besttpc = np.maximum(deltat_E, deltat_W)"
   ]
  },
  {
   "cell_type": "code",
   "execution_count": null,
   "id": "c5d96b5a",
   "metadata": {},
   "outputs": [],
   "source": [
    "data[\"c2a_t0\"] = toff_besttpc * tick_period"
   ]
  },
  {
   "cell_type": "code",
   "execution_count": null,
   "id": "a043ba4c",
   "metadata": {},
   "outputs": [],
   "source": [
    "ccross_t0_E = data.hit_max_time_p2_tpcE - tcathode_EE\n",
    "ccross_t0_W = data.hit_max_time_p2_tpcW - tcathode_EW\n",
    "\n",
    "data[\"ccross_t0\"] = ((ccross_t0_E + ccross_t0_W) / 2.) * tick_period"
   ]
  },
  {
   "cell_type": "code",
   "execution_count": null,
   "id": "4773d1e8",
   "metadata": {},
   "outputs": [],
   "source": [
    "has_t0 = True"
   ]
  },
  {
   "cell_type": "code",
   "execution_count": null,
   "id": "641bb3b5",
   "metadata": {},
   "outputs": [],
   "source": [
    "c2a = (deltat_besttpc > deltat_cut) #& has_t0 & two_tpc_0"
   ]
  },
  {
   "cell_type": "code",
   "execution_count": null,
   "id": "5b4f54d9",
   "metadata": {},
   "outputs": [],
   "source": [
    "var = ((data[\"ccross_t0\"] - data[\"c2a_t0\"])/1e3)\n",
    "\n",
    "when = c2a\n",
    "bins = None#np.linspace(5, 45, 21)\n",
    "bins = np.linspace(-20, 20, 21)\n",
    "_ = plt.hist(var[when & ~tpcE_is_best], bins=bins, label=\"TPC EW\", histtype=\"step\")\n",
    "_ = plt.hist(var[when &  tpcE_is_best], bins=bins, label=\"TPC EE\", histtype=\"step\")\n",
    "plt.legend()\n",
    "plt.xlabel(\"Cathode Cross T0 - Anode 2 Cathode T0 [us]\")\n",
    "plt.ylabel(\"Tracks\")\n",
    "\n",
    "if dosave: plt.savefig(savedir + \"t0_comparison.png\")"
   ]
  },
  {
   "cell_type": "code",
   "execution_count": null,
   "id": "27f97d58",
   "metadata": {},
   "outputs": [],
   "source": [
    "var = ((data[\"t0\"] - data[\"c2a_t0\"])/1e3)\n",
    "\n",
    "when = c2a\n",
    "bins = np.linspace(0, 40, 21)\n",
    "_ = plt.hist(var[when & ~tpcE_is_best], bins=bins, label=\"TPC EW\", histtype=\"step\")\n",
    "_ = plt.hist(var[when &  tpcE_is_best], bins=bins, label=\"TPC EE\", histtype=\"step\")\n",
    "plt.legend()\n",
    "plt.xlabel(\"Cathode Cross (Pandora) T0 - Anode 2 Cathode T0 [us]\")\n",
    "plt.ylabel(\"Tracks\")\n",
    "if dosave: plt.savefig(savedir + \"t0_comparison_pandora.png\")"
   ]
  },
  {
   "cell_type": "code",
   "execution_count": null,
   "id": "11972fcf",
   "metadata": {},
   "outputs": [],
   "source": [
    "var = ((data[\"ccross_t0\"] - data.t0)/1e3)\n",
    "\n",
    "when = has_t0\n",
    "bins = np.linspace(-80, 0, 21)\n",
    "_ = plt.hist(var[when & ~tpcE_is_best], bins=bins, label=\"TPC EW\", histtype=\"step\")\n",
    "_ = plt.hist(var[when &  tpcE_is_best], bins=bins, label=\"TPC EE\", histtype=\"step\")\n",
    "plt.legend(loc=\"upper left\")\n",
    "plt.xlabel(\"Cathode Cross T0: Mine - Pandora [us]\")\n",
    "plt.ylabel(\"Tracks\")\n",
    "if dosave: plt.savefig(savedir + \"t0_comparison_pandora_cathode_cross.png\")"
   ]
  },
  {
   "cell_type": "code",
   "execution_count": null,
   "id": "8b20c524",
   "metadata": {},
   "outputs": [],
   "source": []
  }
 ],
 "metadata": {
  "kernelspec": {
   "display_name": "Python 3",
   "language": "python",
   "name": "python3"
  },
  "language_info": {
   "codemirror_mode": {
    "name": "ipython",
    "version": 3
   },
   "file_extension": ".py",
   "mimetype": "text/x-python",
   "name": "python",
   "nbconvert_exporter": "python",
   "pygments_lexer": "ipython3",
   "version": "3.8.3"
  }
 },
 "nbformat": 4,
 "nbformat_minor": 5
}
