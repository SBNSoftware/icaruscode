{
 "cells": [
  {
   "cell_type": "code",
   "execution_count": null,
   "id": "0a328c60",
   "metadata": {},
   "outputs": [],
   "source": [
    "import uproot\n",
    "import matplotlib.pyplot as plt\n",
    "import matplotlib.colors as colors\n",
    "import matplotlib.cbook as cbook\n",
    "import numpy as np\n",
    "import pandas as pd\n",
    "from decimal import Decimal\n",
    "from scipy.stats import norm\n",
    "from scipy.optimize import curve_fit\n",
    "from scipy import stats\n",
    "import pylandau\n",
    "from scipy.interpolate import CubicSpline"
   ]
  },
  {
   "cell_type": "code",
   "execution_count": null,
   "id": "81ee4520",
   "metadata": {},
   "outputs": [],
   "source": [
    "savedir = \"/icarus/app/users/gputnam/calib/plots/\"\n",
    "dosave=False"
   ]
  },
  {
   "cell_type": "code",
   "execution_count": null,
   "id": "a21f277d",
   "metadata": {},
   "outputs": [],
   "source": [
    "branches = [\n",
    "    \"meta.run\",\n",
    "    \"meta.evt\",\n",
    "    \"meta.iproc\",\n",
    "    \"t0\",\n",
    "    \"id\",\n",
    "    \"clear_cosmic_muon\",\n",
    "    \"start_x\",\n",
    "    \"start_y\",\n",
    "    \"start_z\",\n",
    "    \"end_x\",\n",
    "    \"end_y\",\n",
    "    \"end_z\",\n",
    "    \"dir_x\",\n",
    "    \"dir_y\",\n",
    "    \"dir_z\",\n",
    "    \"hit_min_time_p2_tpcE\",\n",
    "    \"hit_max_time_p2_tpcE\",\n",
    "    \"hit_min_time_p2_tpcW\",\n",
    "    \"hit_max_time_p2_tpcW\"\n",
    "]"
   ]
  },
  {
   "cell_type": "code",
   "execution_count": null,
   "id": "d6a3421f",
   "metadata": {},
   "outputs": [],
   "source": [
    "# fname = \"icarus.root\"\n",
    "fname = \"/icarus/app/users/gputnam/calib/proc/caloanaout_run5458_N1000_procF_stop.root\"\n",
    "folderE = \"caloanaCryoE\"\n",
    "folderW = \"caloanaCryoW\"\n",
    "tname = \"GCalorimetryAnalyzer\"\n",
    "\n",
    "treeE = uproot.open(fname)[folderE][tname]\n",
    "data = treeE.arrays(branches, library=\"pd\")"
   ]
  },
  {
   "cell_type": "code",
   "execution_count": null,
   "id": "a9983fe3",
   "metadata": {},
   "outputs": [],
   "source": [
    "# EXTERNAL INPUT: The drift window in TPC E and TPC W\n",
    "tcathode_E = 3203.15\n",
    "tcathode_W = 3212.96\n",
    "\n",
    "# EXTERNAL INPUT: electron lifetime in TPC E and TPC W\n",
    "electron_lifetime_tpcE = 3.38e3\n",
    "electron_lifetime_tpcW = 3.65e3"
   ]
  },
  {
   "cell_type": "code",
   "execution_count": null,
   "id": "bdfc7edb",
   "metadata": {},
   "outputs": [],
   "source": [
    "# CONFIG\n",
    "\n",
    "a2c_dist = 148.275 # cm\n",
    "tanode = 850 # ticks\n",
    "tick_period = 400 # ns\n",
    "NTICKS = 4096 # ticks"
   ]
  },
  {
   "cell_type": "code",
   "execution_count": null,
   "id": "d4b3fa53",
   "metadata": {},
   "outputs": [],
   "source": [
    "ICARUS_AV = [    \n",
    "    {\n",
    "      \"xmin\": -364.49,\n",
    "      \"xmax\": -67.94,\n",
    "      \"ymin\": -173.41,\n",
    "      \"zmin\": -909.951,\n",
    "      \"ymax\": 143.41,\n",
    "      \"zmax\": 879.951,\n",
    "    },\n",
    "    {\n",
    "      \"xmin\": 67.94,\n",
    "      \"ymin\": -173.41,\n",
    "      \"zmin\": -909.951,\n",
    "      \"xmax\": 364.49,\n",
    "      \"ymax\": 143.41,\n",
    "      \"zmax\": 879.951,\n",
    "    }\n",
    "]\n",
    "\n",
    "ICARUS_FV = [{\n",
    "        \"xmin\": ICARUS_AV[0][\"xmin\"] + 25,\n",
    "        \"ymin\": ICARUS_AV[0][\"ymin\"] + 25,\n",
    "        \"zmin\": ICARUS_AV[0][\"zmin\"] + 25,\n",
    "        \"xmax\": ICARUS_AV[0][\"xmax\"] - 25,\n",
    "        \"ymax\": ICARUS_AV[0][\"ymax\"] - 50,\n",
    "        \"zmax\": ICARUS_AV[0][\"zmax\"] - 25,\n",
    "    },\n",
    "    {\n",
    "        \"xmin\": ICARUS_AV[1][\"xmin\"] + 25,\n",
    "        \"ymin\": ICARUS_AV[1][\"ymin\"] + 25,\n",
    "        \"zmin\": ICARUS_AV[1][\"zmin\"] + 25,\n",
    "        \"xmax\": ICARUS_AV[1][\"xmax\"] - 25,\n",
    "        \"ymax\": ICARUS_AV[1][\"ymax\"] - 50,\n",
    "        \"zmax\": ICARUS_AV[1][\"zmax\"] - 25,\n",
    "    }\n",
    "]\n",
    "\n",
    "def InFV(xyz, FVs=ICARUS_FV):\n",
    "    fids = []\n",
    "    fid = xyz[0] == np.nan\n",
    "    for fv in FVs:\n",
    "        this_fid = [(xyz[i] > fv[p+\"min\"]) & (xyz[i] < fv[p+\"max\"]) for i, p in enumerate(\"xyz\")]\n",
    "        fid = fid | (this_fid[0] & this_fid[1] & this_fid[2])\n",
    "    return fid\n",
    "\n",
    "def InFVYZ(yz, FVs=ICARUS_FV):\n",
    "    fids = []\n",
    "    fid = yz[0] == np.nan\n",
    "    for fv in FVs:\n",
    "        this_fid = [(yz[i] > fv[p+\"min\"]) & (yz[i] < fv[p+\"max\"]) for i, p in enumerate(\"yz\")]\n",
    "        fid = fid | (this_fid[0] & this_fid[1])\n",
    "    return fid\n",
    "\n",
    "def isTPCE(df):\n",
    "    return df.tpc <= 1\n"
   ]
  },
  {
   "cell_type": "code",
   "execution_count": null,
   "id": "b8eb3025",
   "metadata": {},
   "outputs": [],
   "source": [
    "# use the external input to build the t0\n",
    "ccross_t0_E = data.hit_max_time_p2_tpcE - tcathode_E\n",
    "ccross_t0_W = data.hit_max_time_p2_tpcW - tcathode_W\n",
    "\n",
    "data[\"ccross_t0\"] = ((ccross_t0_E + ccross_t0_W) / 2.) * tick_period\n",
    "\n",
    "has_t0 = True"
   ]
  },
  {
   "cell_type": "code",
   "execution_count": null,
   "id": "22577cb0",
   "metadata": {},
   "outputs": [],
   "source": [
    "ICARUS_FV_STOPPING = [{\n",
    "        \"xmin\": ICARUS_AV[0][\"xmin\"] + 25,\n",
    "        \"ymin\": ICARUS_AV[0][\"ymin\"] + 25,\n",
    "        \"zmin\": ICARUS_AV[0][\"zmin\"] + 25,\n",
    "        \"xmax\": ICARUS_AV[0][\"xmax\"] - 25,\n",
    "        \"ymax\": ICARUS_AV[0][\"ymax\"] - 25,\n",
    "        \"zmax\": ICARUS_AV[0][\"zmax\"] - 25,\n",
    "    },\n",
    "]"
   ]
  },
  {
   "cell_type": "code",
   "execution_count": null,
   "id": "0b4c818e",
   "metadata": {},
   "outputs": [],
   "source": [
    "stopping_track = ~InFV([data.start_x, data.start_y, data.start_z]) &\\\n",
    "    InFV([data.end_x, data.end_y, data.end_z], ICARUS_FV_STOPPING) &\\\n",
    "    (data.dir_y < 0.) &\\\n",
    "    has_t0 &\\\n",
    "    (data.hit_min_time_p2_tpcE > 200) & (data.hit_max_time_p2_tpcE < NTICKS - 200) &\\\n",
    "    (data.hit_min_time_p2_tpcW > 200) & (data.hit_max_time_p2_tpcW < NTICKS - 200)\n",
    "    #&\\\n",
    "    #(plane2_stopcalo.dqdx_corr.groupby(\"entry\").first() / plane2_stopcalo.dqdx_corr.groupby(\"entry\").last() > 2)\n",
    "\n",
    "stopping_track.name=\"stopping\"\n",
    "stopping_track.index.name=\"entry\"\n",
    "\n",
    "stopping_track.sum() / stopping_track.size"
   ]
  },
  {
   "cell_type": "code",
   "execution_count": null,
   "id": "ec039550",
   "metadata": {},
   "outputs": [],
   "source": [
    "plane2branches = [\n",
    "    \"dqdx\",\n",
    "    \"time\",\n",
    "    \"tpc\",\n",
    "    \"pitch\"\n",
    "]\n",
    "plane2branches = [\"hits2.%s\" % s for s in plane2branches]"
   ]
  },
  {
   "cell_type": "code",
   "execution_count": null,
   "id": "e320d03e",
   "metadata": {},
   "outputs": [],
   "source": [
    "plane2_stopcalo = treeE.arrays([\"hits2.rr\"], library=\"pd\")#, entrystop=10000)\n",
    "plane2_oncalo = ~np.isnan(plane2_stopcalo[\"hits2.rr\"]) & (plane2_stopcalo[\"hits2.rr\"] < 200) & (plane2_stopcalo[\"hits2.rr\"] > 0.)\n",
    "plane2_stopcalo = plane2_stopcalo[plane2_oncalo]\n",
    "\n",
    "for b in plane2branches:\n",
    "    bdf = treeE.arrays([b], library=\"pd\")\n",
    "    bdf = bdf[plane2_oncalo]\n",
    "    plane2_stopcalo = plane2_stopcalo.merge(bdf, left_index=True, right_index=True, validate=\"one_to_one\")\n",
    "    del bdf"
   ]
  },
  {
   "cell_type": "code",
   "execution_count": null,
   "id": "e5301570",
   "metadata": {},
   "outputs": [],
   "source": [
    "plane2_stopcalo.columns = [s.split(\".\")[1] for s in plane2_stopcalo.columns]\n",
    "plane2_stopcalo = plane2_stopcalo.sort_values(by=[\"entry\", \"rr\"])"
   ]
  },
  {
   "cell_type": "code",
   "execution_count": null,
   "id": "e1d3e029",
   "metadata": {},
   "outputs": [],
   "source": [
    "# Guard bad dqdx, only save tracks for which we have a ccross t0\n",
    "plane2_stopcalo = plane2_stopcalo[~np.isnan(plane2_stopcalo.dqdx)]\n",
    "plane2_stopcalo = plane2_stopcalo.join(data.ccross_t0)\n",
    "plane2_stopcalo = plane2_stopcalo[~np.isnan(plane2_stopcalo.ccross_t0)]\n",
    "\n",
    "t0 = 0\n",
    "def exp(t, *p):\n",
    "    A,tau = p\n",
    "    return A*np.exp(-(t - t0)/tau)\n",
    "\n",
    "plane2_stopcalo[\"tpcE\"] = isTPCE(plane2_stopcalo)\n",
    "plane2_stopcalo.time = (plane2_stopcalo.time * tick_period - plane2_stopcalo.ccross_t0 - tanode*tick_period) / 1000.\n",
    "\n",
    "plane2_stopcalo[\"dqdx_corr\"] = plane2_stopcalo.dqdx * exp(plane2_stopcalo.time, 1., -electron_lifetime_tpcE)\n",
    "plane2_stopcalo.loc[~plane2_stopcalo.tpcE, \"dqdx_corr\"] = plane2_stopcalo.dqdx[~plane2_stopcalo.tpcE] * exp(plane2_stopcalo.time[~plane2_stopcalo.tpcE], 1., -electron_lifetime_tpcW)\n",
    "\n",
    "plane2_stopcalo = plane2_stopcalo.drop(columns=\"ccross_t0\")"
   ]
  },
  {
   "cell_type": "code",
   "execution_count": null,
   "id": "3cbe36cf",
   "metadata": {},
   "outputs": [],
   "source": [
    "var = plane2_stopcalo.dqdx[plane2_stopcalo.rr < 5].groupby(level=0).median()\n",
    "when = stopping_track\n",
    "bins = np.linspace(0, 2000, 21)\n",
    "_ = plt.hist(var[when], bins=bins)\n",
    "plt.xlabel(\"Median dQ/dx (R.R. < 5cm) [ADC/cm]\")\n",
    "plt.ylabel(\"Geometric Stopping Tracks\")\n",
    "\n",
    "if dosave: plt.savefig(savedir + \"median_dqdx_5cmrr_cutoff.png\")"
   ]
  },
  {
   "cell_type": "code",
   "execution_count": null,
   "id": "26ff7eed",
   "metadata": {},
   "outputs": [],
   "source": [
    "Rcut = 10 #cm\n",
    "dqdxcut = 1.1e3\n",
    "stopping_track_wcalo = stopping_track &\\\n",
    "    (plane2_stopcalo.dqdx[plane2_stopcalo.rr < 5].groupby(level=0).median() > dqdxcut)\n",
    "\n",
    "#& (fitvar > 25) & (data.exp_fit_R < Rcut)\n",
    "\n",
    "stopping_track_wcalo.name=\"stopping\"\n",
    "stopping_track_wcalo.index.name=\"entry\"\n",
    "\n",
    "stopping_track_wcalo.sum() / stopping_track_wcalo.size"
   ]
  },
  {
   "cell_type": "code",
   "execution_count": null,
   "id": "c2adb042",
   "metadata": {},
   "outputs": [],
   "source": [
    "stopping_track_wcalo.sum()"
   ]
  },
  {
   "cell_type": "code",
   "execution_count": null,
   "id": "bdee036d",
   "metadata": {},
   "outputs": [],
   "source": [
    "if \"stopping\" in plane2_stopcalo.columns:\n",
    "    plane2_stopcalo = plane2_stopcalo.drop(columns=[\"stopping\"])\n",
    "plane2_stopcalo = plane2_stopcalo.join(stopping_track_wcalo)\n",
    "\n",
    "plane2_stopcalo = plane2_stopcalo[plane2_stopcalo.stopping]\n",
    "plane2_stopcalo = plane2_stopcalo.drop(columns=[\"stopping\"])"
   ]
  },
  {
   "cell_type": "code",
   "execution_count": null,
   "id": "fe8f3674",
   "metadata": {},
   "outputs": [],
   "source": [
    "varx = plane2_stopcalo.rr\n",
    "vary = plane2_stopcalo.dqdx_corr\n",
    "when = plane2_stopcalo.tpcE\n",
    "binx=np.linspace(0, 30, 31)\n",
    "biny=np.linspace(200, 2000, 37)\n",
    "_ = plt.hist2d(varx[when], vary[when], bins=[binx, biny])#, norm=colors.LogNorm())\n",
    "plt.colorbar()\n",
    "plt.xlabel(\"Residual Range [cm]\")\n",
    "plt.ylabel(\"dQ/dx [ADC/cm]\")\n",
    "\n",
    "#plt.text(0.3, 0.8, \"dQ/dx cut: %.0f [ADC/cm]\\nN Track: %i\" % (dqdxcut, stopping_track_wcalo.sum()), transform=plt.gca().transAxes, fontsize=14, color=\"w\")\n",
    "\n",
    "if dosave: plt.savefig(savedir + \"stoppping_dqdx_rr_zoom.png\")"
   ]
  },
  {
   "cell_type": "code",
   "execution_count": null,
   "id": "b355a635",
   "metadata": {},
   "outputs": [],
   "source": [
    "varx = plane2_stopcalo.rr\n",
    "vary = plane2_stopcalo.dqdx_corr\n",
    "when = plane2_stopcalo.tpcE | True\n",
    "binx=np.linspace(0, 200, 101)\n",
    "biny=np.linspace(200, 2000, 37)\n",
    "\n",
    "plt.figure(figsize=(12, 6))\n",
    "plt.rc(\"font\", size=14)\n",
    "\n",
    "_ = plt.hist2d(varx[when], vary[when], bins=[binx, biny])#, norm=colors.LogNorm())\n",
    "plt.colorbar()\n",
    "plt.xlabel(\"Residual Range [cm]\")\n",
    "plt.ylabel(\"dQ/dx [ADC/cm]\")\n",
    "\n",
    "#plt.text(0.3, 0.8, \"dQ/dx cut: %.0f [ADC/cm]\\nN Track: %i\" % (dqdxcut, stopping_track_wcalo.sum()), transform=plt.gca().transAxes, fontsize=14, color=\"w\")\n",
    "if dosave: plt.savefig(savedir + \"stoppping_dqdx_rr.png\")"
   ]
  },
  {
   "cell_type": "code",
   "execution_count": null,
   "id": "0c337fdb",
   "metadata": {},
   "outputs": [],
   "source": [
    "when = (plane2_stopcalo.pitch < 0.4) & (plane2_stopcalo.pitch > 0.3)\n",
    "_ = plt.hist(plane2_stopcalo.pitch[when])\n",
    "MEAN_PITCH = np.mean(plane2_stopcalo.pitch[when])\n",
    "print(MEAN_PITCH)\n",
    "plt.xlabel(\"Track Pitch [cm]\")\n",
    "plt.ylabel(\"# Depositions\")\n",
    "plt.text(0.5, 0.9, \"Mean Pitch: %.4f cm\" % MEAN_PITCH, fontsize=14, transform=plt.gca().transAxes)\n",
    "plt.tight_layout()\n",
    "if dosave: plt.savefig(savedir + \"pitches.png\")"
   ]
  },
  {
   "cell_type": "code",
   "execution_count": null,
   "id": "20c5d172",
   "metadata": {},
   "outputs": [],
   "source": [
    "# From: https://pdg.lbl.gov/2012/AtomicNuclearProperties/MUON_ELOSS_TABLES/muonloss_289.pdf\n",
    "LAr_density_gmL = 1.3973\n",
    "\n",
    "CSDA_RR_REF = np.array([\n",
    "    9.833e-1,\n",
    "    1.786e0,\n",
    "    3.321e0,\n",
    "    6.598e0,\n",
    "    1.058e1,\n",
    "    3.084e1,\n",
    "    4.250e1,\n",
    "    6.732e1,\n",
    "    1.063e2,\n",
    "    1.725e2,\n",
    "    2.385e2,\n",
    "    4.934e2,\n",
    "    6.163e2\n",
    "]) / LAr_density_gmL\n",
    "\n",
    "KE_REF = np.array([\n",
    "    10.,\n",
    "    14.,\n",
    "    20.,\n",
    "    30.,\n",
    "    40.,\n",
    "    80.,\n",
    "    100.,\n",
    "    140.,\n",
    "    200.,\n",
    "    300.,\n",
    "    400.,\n",
    "    800.,\n",
    "    1000.\n",
    "])"
   ]
  },
  {
   "cell_type": "code",
   "execution_count": null,
   "id": "04e1c539",
   "metadata": {},
   "outputs": [],
   "source": [
    "mass_electron = 0.5109989461 # MeV https://pdg.lbl.gov/2020/listings/rpp2020-list-K-plus-minus.pdf\n",
    "mass = 105.6583745 # MeV https://pdg.lbl.gov/2020/listings/rpp2020-list-muon.pdf\n",
    "Ival = 188.0e-6\n",
    "Zval = 18.0\n",
    "Aval = 39.948\n",
    "Kfactor = 0.307075\n",
    "\n",
    "def Calc_MPV_DEDX(pitch, T):\n",
    "    gamma = (mass+T)/mass\n",
    "    beta = pow(1.0-pow(gamma,-2.0),0.5)\n",
    "    Wmax = (2.0*mass_electron*pow(beta,2.0)*pow(gamma,2.0))/(1.0+2.0*gamma*(mass_electron/mass)+pow(mass_electron/mass,2.0))\n",
    "\n",
    "    # Medium energy \n",
    "    dens_factor = 2.0*np.log(10)*np.log10(beta*gamma)-5.2146+0.19559*pow(3.0-np.log10(beta*gamma),3.0)\n",
    "    # low energy\n",
    "    dens_factor[np.log10(beta*gamma) < 0.2] = 0.\n",
    "    # high energy\n",
    "    dens_factor[np.log10(beta*gamma) > 3.0] = (2.0*np.log(10)*np.log10(beta*gamma)-5.2146)[np.log10(beta*gamma) > 3.0]\n",
    "    dEdx_mean = LAr_density_gmL*Kfactor*(Zval/Aval)*pow(beta,-2.0)*(0.5*np.log(2.0*mass_electron*pow(beta,2.0)*pow(gamma,2.0)*Wmax*pow(Ival,-2.0))-pow(beta,2.0)-dens_factor/2.0)\n",
    "    xi = (Kfactor/2.0)*(Zval/Aval)*pow(beta,-2.0)*LAr_density_gmL*pitch\n",
    "    kappa = xi/Wmax\n",
    "    dEdx_MPV = xi*(np.log((2.0*mass_electron*pow(beta*gamma,2.0))/Ival)+np.log(xi/Ival)+0.200-pow(beta,2.0)-dens_factor)/pitch\n",
    "  \n",
    "    return dEdx_MPV\n",
    "\n",
    "def Calc_MEAN_DEDX(T):\n",
    "    gamma = (mass+T)/mass\n",
    "    beta = pow(1.0-pow(gamma,-2.0),0.5)\n",
    "    Wmax = (2.0*mass_electron*pow(beta,2.0)*pow(gamma,2.0))/(1.0+2.0*gamma*(mass_electron/mass)+pow(mass_electron/mass,2.0))\n",
    "\n",
    "    # Medium energy \n",
    "    dens_factor = 2.0*np.log(10)*np.log10(beta*gamma)-5.2146+0.19559*pow(3.0-np.log10(beta*gamma),3.0)\n",
    "    # low energy\n",
    "    dens_factor[np.log10(beta*gamma) < 0.2] = 0.\n",
    "    dens_factor[beta < 1e-6] = 0.\n",
    "    # high energy\n",
    "    dens_factor[np.log10(beta*gamma) > 3.0] = (2.0*np.log(10)*np.log10(beta*gamma)-5.2146)[np.log10(beta*gamma) > 3.0]\n",
    "    dEdx_mean = LAr_density_gmL*Kfactor*(Zval/Aval)*pow(beta,-2.0)*(0.5*np.log(2.0*mass_electron*pow(beta,2.0)*pow(gamma,2.0)*Wmax*pow(Ival,-2.0))-pow(beta,2.0)-dens_factor/2.0)\n",
    "\n",
    "    return dEdx_mean"
   ]
  },
  {
   "cell_type": "code",
   "execution_count": null,
   "id": "47fb97fb",
   "metadata": {},
   "outputs": [],
   "source": [
    "KE_points_max = 1000.\n",
    "dRR = 0.01\n",
    "thisKE = KE_points_max\n",
    "\n",
    "KE_points = [thisKE]\n",
    "RR_points = [0.]\n",
    "\n",
    "while thisKE > 0.0:\n",
    "    deltaKE = Calc_MEAN_DEDX(np.array([thisKE])) * dRR\n",
    "    RR_points.append(RR_points[-1] + dRR)\n",
    "    thisKE -= deltaKE[0]\n",
    "    KE_points.append(thisKE)\n",
    "    \n",
    "KE_points = np.array(list(reversed(KE_points[:-1])))\n",
    "RR_points = np.array(RR_points[:-1])"
   ]
  },
  {
   "cell_type": "code",
   "execution_count": null,
   "id": "71d1f216",
   "metadata": {},
   "outputs": [],
   "source": [
    "MPV_dEDX_points = Calc_MPV_DEDX(MEAN_PITCH, KE_points)\n",
    "\n",
    "RR2DEDX = CubicSpline(RR_points, MPV_dEDX_points)"
   ]
  },
  {
   "cell_type": "code",
   "execution_count": null,
   "id": "cb84f24c",
   "metadata": {},
   "outputs": [],
   "source": [
    "plt.plot(RR_points, KE_points, label=\"Calculated CSDA KE\")\n",
    "plt.plot(CSDA_RR_REF, KE_REF, \"*\", label=\"PDG Reference CSDA KE\")\n",
    "plt.legend()\n",
    "plt.xlabel(\"Range [cm]\")\n",
    "plt.ylabel(\"Kinetic Energy [MeV]\")\n",
    "\n",
    "if dosave: plt.savefig(savedir + \"range_KE_validation.png\")"
   ]
  },
  {
   "cell_type": "code",
   "execution_count": null,
   "id": "4b6097f8",
   "metadata": {},
   "outputs": [],
   "source": [
    "plt.plot(RR_points, MPV_dEDX_points, label=\"Prediction\")\n",
    "plt.ylim([1, 4])\n",
    "plt.xlabel(\"Residual Range [cm]\")\n",
    "plt.ylabel(\"Most Probable dE/dx [MeV/cm]\")\n",
    "plt.legend()\n",
    "\n",
    "if dosave: plt.savefig(savedir + \"stopping_dEdx_prediction.png\")"
   ]
  },
  {
   "cell_type": "code",
   "execution_count": null,
   "id": "b5e2c1ba",
   "metadata": {},
   "outputs": [],
   "source": [
    "MODA = 0.930\n",
    "MODB = 0.212\n",
    "Wion = 1e3 / 4.237e7\n",
    "Efield = 0.5\n",
    "\n",
    "def recombination(dEdx):\n",
    "    alpha = MODA\n",
    "    beta = MODB / (LAr_density_gmL * Efield)\n",
    "    \n",
    "    dQdx = np.log(alpha + dEdx*beta) / (Wion * beta)\n",
    "    return dQdx"
   ]
  },
  {
   "cell_type": "code",
   "execution_count": null,
   "id": "9f0484c6",
   "metadata": {},
   "outputs": [],
   "source": [
    "def landau_gaus(X, *p):\n",
    "    mpv, eta, sigma, A = p\n",
    "    if sigma >= 100*eta:\n",
    "        sigma = eta\n",
    "    return pylandau.langau(X, mpv=mpv, eta=eta, sigma=sigma, A=A)"
   ]
  },
  {
   "cell_type": "code",
   "execution_count": null,
   "id": "a0269a01",
   "metadata": {},
   "outputs": [],
   "source": [
    "rrs = np.linspace(50., 200., 31)\n",
    "rrhis = rrs[1:]\n",
    "rrlos = rrs[:-1]\n",
    "RRs = (rrhis + rrlos)/2.\n",
    "bins = np.linspace(200, 2000, 73)\n",
    "bin_centers = (bins[1:] + bins[:-1]) / 2.\n",
    "\n",
    "MPV_dqdxs = []\n",
    "\n",
    "langau_params = []\n",
    "langau_param_errs = []\n",
    "for i,(rrlo, rrhi) in enumerate(zip(rrlos, rrhis)):\n",
    "    #if i > 5: break\n",
    "    when = (plane2_stopcalo.pitch < 0.4) & (plane2_stopcalo.pitch > 0.3) &\\\n",
    "        (plane2_stopcalo.rr > rrlo) & (plane2_stopcalo.rr < rrhi)\n",
    "    N,_ = np.histogram(plane2_stopcalo.dqdx_corr[when], bins=bins)\n",
    "    \n",
    "    p0 = [600, 35, 100, np.max(N)]\n",
    "    popt, perr = curve_fit(landau_gaus, bin_centers, N, p0=p0, maxfev=10_000, sigma=np.maximum(np.sqrt(N),1))\n",
    "    MPV_dqdxs.append(popt[0])\n",
    "    langau_params.append(popt)\n",
    "    langau_param_errs.append(perr)\n",
    "    \n",
    "MPV_dqdxs = np.array(MPV_dqdxs)"
   ]
  },
  {
   "cell_type": "code",
   "execution_count": null,
   "id": "c30c95fb",
   "metadata": {},
   "outputs": [],
   "source": [
    "def langau_chi2(x, y, yerr, popt):\n",
    "    return np.sum(((landau_gaus(x, *popt) - y) / yerr)**2)"
   ]
  },
  {
   "cell_type": "code",
   "execution_count": null,
   "id": "35da8cb7",
   "metadata": {},
   "outputs": [],
   "source": [
    "# Plot fits\n",
    "\n",
    "for IND in range(len(RRs)):\n",
    "    plt.figure(IND)\n",
    "    when = (plane2_stopcalo.pitch < 0.4) & (plane2_stopcalo.pitch > 0.3) &\\\n",
    "            (plane2_stopcalo.rr > rrlos[IND]) & (plane2_stopcalo.rr < rrhis[IND])\n",
    "    \n",
    "    N,_,_ = plt.hist(plane2_stopcalo.dqdx_corr[when], bins=bins, label=\"Data\")\n",
    "    chi2 = langau_chi2(bin_centers, N, np.maximum(np.sqrt(N), 1), langau_params[IND]) / (np.sum(N>0) -2)\n",
    "    \n",
    "    plt.plot(bin_centers, landau_gaus(bin_centers, *langau_params[IND]), label=\"Landau$\\circledast$Gaussian Fit\")\n",
    "    plt.legend(fontsize=14)\n",
    "    plt.text(0.5, 0.2, \"%.0f < R.R. < %.0f cm\\n0.3 < pitch < 0.4 cm\\n\\nMPV = %.2f ADC/cm\\n$\\eta$ = %.2f ADC/cm\\n$\\sigma$ = %.2f ADC/cm\\n$\\\\tilde{\\\\chi}^2$=%.2f\" % tuple([rrlos[IND], rrhis[IND]] + list(langau_params[IND][:3]) + [chi2]),\n",
    "            fontsize=14, transform=plt.gca().transAxes)\n",
    "    \n",
    "    plt.xlabel(\"dQ/dx [ADC/cm]\")\n",
    "    plt.ylabel(\"# Depositions\")\n",
    "    if dosave: plt.savefig(savedir + \"dqdx_langau_fit_RR%.0f_%.0f.png\" % (rrlos[IND], rrhis[IND]))"
   ]
  },
  {
   "cell_type": "code",
   "execution_count": null,
   "id": "406afb57",
   "metadata": {},
   "outputs": [],
   "source": [
    "M = langau_param_errs[9]\n",
    "D = np.diag(1./np.sqrt(np.diag(M)))\n",
    "\n",
    "print(np.matmul(np.matmul(D,M), D))\n",
    "print(np.diag(M)[0])"
   ]
  },
  {
   "cell_type": "code",
   "execution_count": null,
   "id": "6c27f832",
   "metadata": {},
   "outputs": [],
   "source": [
    "IND = 4\n",
    "mpv_errs = []\n",
    "\n",
    "for IND in range(len(RRs)):\n",
    "    popt = langau_params[IND]\n",
    "    central_mpv = popt[0]\n",
    "    MPVs = np.linspace(popt[0] - 15, popt[0] + 15, 101)\n",
    "    when = (plane2_stopcalo.pitch < 0.4) & (plane2_stopcalo.pitch > 0.3) &\\\n",
    "            (plane2_stopcalo.rr > rrlos[IND]) & (plane2_stopcalo.rr < rrhis[IND])\n",
    "    N,_ = np.histogram(plane2_stopcalo.dqdx_corr[when], bins=bins)\n",
    "\n",
    "    chi2s = [langau_chi2(bin_centers, N, np.maximum(np.sqrt(N),1), [MPV] + list(popt[1:])) for MPV in MPVs]\n",
    "    red_chi2s = np.array(chi2s) / (np.sum(N > 0) - 4)\n",
    "    plt.plot(MPVs, red_chi2s)\n",
    "\n",
    "    MPV_lo = MPVs[np.argmin(np.abs(red_chi2s - np.min(red_chi2s) - 1.)[MPVs < central_mpv])]\n",
    "    MPV_hi = MPVs[MPVs > central_mpv][np.argmin(np.abs(red_chi2s - np.min(red_chi2s) - 1.)[MPVs > central_mpv])]\n",
    "    \n",
    "    mpv_errs.append((MPV_hi - MPV_lo) / 2.)\n"
   ]
  },
  {
   "cell_type": "code",
   "execution_count": null,
   "id": "75f3c8ff",
   "metadata": {},
   "outputs": [],
   "source": [
    "error = 0.005\n",
    "\n",
    "#mpv_err = (error * MPV_dqdxs)\n",
    "#mpv_err = np.array([np.sqrt(np.diag(perr)[0]) for perr in langau_param_errs])\n",
    "mpv_err = np.array(mpv_errs)"
   ]
  },
  {
   "cell_type": "code",
   "execution_count": null,
   "id": "f41edb1d",
   "metadata": {},
   "outputs": [],
   "source": [
    "def gain_predicted_MPV(CAL):\n",
    "    dEdxs = RR2DEDX(RRs)\n",
    "    dQdxs = recombination(dEdxs)\n",
    "    return dQdxs / CAL\n",
    "\n",
    "def gain_chi2(CAL):\n",
    "    dEdxs = RR2DEDX(RRs)\n",
    "    dQdxs = recombination(dEdxs)\n",
    "    dQdxs_ADC = np.outer(1. / CAL, dQdxs)\n",
    "    chi2s = (MPV_dqdxs - dQdxs_ADC)**2 / mpv_err**2\n",
    "    return np.sum(chi2s, axis=-1)"
   ]
  },
  {
   "cell_type": "code",
   "execution_count": null,
   "id": "d319f729",
   "metadata": {},
   "outputs": [],
   "source": [
    "cals = np.linspace(79, 84, 101)\n",
    "red_chi2 = gain_chi2(cals) / (len(RRs) - 1)"
   ]
  },
  {
   "cell_type": "code",
   "execution_count": null,
   "id": "f4256ec4",
   "metadata": {},
   "outputs": [],
   "source": [
    "plt.plot(cals, red_chi2)\n",
    "plt.xlabel(\"Calibration Constant [electrons/ADC]\")\n",
    "plt.ylabel(r'$\\chi^2$/n.d.f.')\n",
    "#plt.ylim([0, 10])\n",
    "if dosave: plt.savefig(savedir + \"calibration_constant_chi2.png\")"
   ]
  },
  {
   "cell_type": "code",
   "execution_count": null,
   "id": "8bd6b332",
   "metadata": {},
   "outputs": [],
   "source": [
    "BESTCAL = cals[np.argmin(red_chi2)]\n",
    "print(BESTCAL, np.min(red_chi2))\n",
    "\n",
    "CAL_MINUS = cals[np.argmin(np.abs(red_chi2 - np.min(red_chi2) - 1.)[cals < BESTCAL])]\n",
    "CAL_PLUS = cals[cals > BESTCAL][np.argmin(np.abs(red_chi2 - np.min(red_chi2) - 1.)[cals > BESTCAL])]\n",
    "\n",
    "print(\"%.2f + %.2f - %.2f\" % (BESTCAL, abs(CAL_PLUS - BESTCAL), abs(CAL_MINUS-BESTCAL)))"
   ]
  },
  {
   "cell_type": "code",
   "execution_count": null,
   "id": "f9a75272",
   "metadata": {},
   "outputs": [],
   "source": [
    "plt.plot(RRs, gain_predicted_MPV(BESTCAL), label=\"Calibrated Prediction\")\n",
    "plt.errorbar(RRs, MPV_dqdxs, yerr=mpv_err, xerr=2.5, ls=\"none\", label=\"Data Measured M.P.V.\")\n",
    "plt.legend()\n",
    "plt.xlabel(\"Residual Range [cm]\")\n",
    "plt.ylabel(\"dQ/dx [ADC/cm]\")\n",
    "\n",
    "plt.text(0.2, 0.7, \"Calibration: $%.2f_{%.2f}^{%.2f}$ electrons/ADC\"% (BESTCAL, abs(CAL_PLUS - BESTCAL), abs(CAL_MINUS-BESTCAL)),\n",
    "        fontsize=14, transform=plt.gca().transAxes)\n",
    "\n",
    "if dosave: plt.savefig(savedir + \"calibrated_dQdx_predictionVdata.png\")"
   ]
  },
  {
   "cell_type": "code",
   "execution_count": null,
   "id": "e8cc4119",
   "metadata": {},
   "outputs": [],
   "source": []
  },
  {
   "cell_type": "code",
   "execution_count": null,
   "id": "0d6f4e9e",
   "metadata": {},
   "outputs": [],
   "source": [
    "plt.plot(RRs, mpv_err)\n",
    "plt.ylim([0, 20])"
   ]
  },
  {
   "cell_type": "code",
   "execution_count": null,
   "id": "c8362a8f",
   "metadata": {},
   "outputs": [],
   "source": [
    "langau_param_errs[8]"
   ]
  },
  {
   "cell_type": "code",
   "execution_count": null,
   "id": "2c886d55",
   "metadata": {},
   "outputs": [],
   "source": [
    "np.diag(langau_param_errs[4])"
   ]
  },
  {
   "cell_type": "code",
   "execution_count": null,
   "id": "bf410147",
   "metadata": {},
   "outputs": [],
   "source": []
  },
  {
   "cell_type": "code",
   "execution_count": null,
   "id": "3a607490",
   "metadata": {},
   "outputs": [],
   "source": []
  }
 ],
 "metadata": {
  "kernelspec": {
   "display_name": "Python 3",
   "language": "python",
   "name": "python3"
  },
  "language_info": {
   "codemirror_mode": {
    "name": "ipython",
    "version": 3
   },
   "file_extension": ".py",
   "mimetype": "text/x-python",
   "name": "python",
   "nbconvert_exporter": "python",
   "pygments_lexer": "ipython3",
   "version": "3.8.3"
  }
 },
 "nbformat": 4,
 "nbformat_minor": 5
}
