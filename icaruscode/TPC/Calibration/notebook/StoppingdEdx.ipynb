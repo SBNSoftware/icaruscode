{
 "cells": [
  {
   "cell_type": "code",
   "execution_count": null,
   "id": "73771edb",
   "metadata": {},
   "outputs": [],
   "source": [
    "import uproot\n",
    "import matplotlib.pyplot as plt\n",
    "import matplotlib.colors as colors\n",
    "import matplotlib.cbook as cbook\n",
    "import numpy as np\n",
    "import pandas as pd\n",
    "from decimal import Decimal\n",
    "from scipy.stats import norm\n",
    "from scipy.optimize import curve_fit\n",
    "from scipy import stats\n",
    "import pylandau\n",
    "from scipy.interpolate import CubicSpline"
   ]
  },
  {
   "cell_type": "code",
   "execution_count": null,
   "id": "66024f40",
   "metadata": {},
   "outputs": [],
   "source": [
    "savedir = \"/icarus/app/users/gputnam/calib/plots/\"\n",
    "dosave=False"
   ]
  },
  {
   "cell_type": "code",
   "execution_count": null,
   "id": "d22004a6",
   "metadata": {},
   "outputs": [],
   "source": [
    "branches = [\n",
    "    \"meta.run\",\n",
    "    \"meta.evt\",\n",
    "    \"meta.iproc\",\n",
    "    \"t0\",\n",
    "    \"id\",\n",
    "    \"clear_cosmic_muon\",\n",
    "    \"start_x\",\n",
    "    \"start_y\",\n",
    "    \"start_z\",\n",
    "    \"end_x\",\n",
    "    \"end_y\",\n",
    "    \"end_z\",\n",
    "    \"dir_x\",\n",
    "    \"dir_y\",\n",
    "    \"dir_z\",\n",
    "    \"hit_min_time_p2_tpcE\",\n",
    "    \"hit_max_time_p2_tpcE\",\n",
    "    \"hit_min_time_p2_tpcW\",\n",
    "    \"hit_max_time_p2_tpcW\"\n",
    "]"
   ]
  },
  {
   "cell_type": "code",
   "execution_count": null,
   "id": "81db3e6d",
   "metadata": {},
   "outputs": [],
   "source": [
    "# fname = \"icarus.root\"\n",
    "fname = \"/icarus/app/users/gputnam/calib/proc/caloanaout_run5458_N1000_procF_stop.root\"\n",
    "folderE = \"caloanaCryoE\"\n",
    "folderW = \"caloanaCryoW\"\n",
    "tname = \"GCalorimetryAnalyzer\"\n",
    "\n",
    "treeE = uproot.open(fname)[folderE][tname]\n",
    "data = treeE.arrays(branches, library=\"pd\")"
   ]
  },
  {
   "cell_type": "code",
   "execution_count": null,
   "id": "67f98ed6",
   "metadata": {},
   "outputs": [],
   "source": [
    "# EXTERNAL INPUT: The drift window in TPC E and TPC W\n",
    "tcathode_E = 3203.15\n",
    "tcathode_W = 3212.96\n",
    "\n",
    "# EXTERNAL INPUT: electron lifetime in TPC E and TPC W\n",
    "electron_lifetime_tpcE = 3.38e3\n",
    "electron_lifetime_tpcW = 3.65e3\n",
    "\n",
    "# EXTERNAL INPUT: calibration constant\n",
    "calibration = 81.01\n",
    "MEAN_PITCH = 0.3487"
   ]
  },
  {
   "cell_type": "code",
   "execution_count": null,
   "id": "b68c5aab",
   "metadata": {},
   "outputs": [],
   "source": [
    "# CONFIG\n",
    "\n",
    "a2c_dist = 148.275 # cm\n",
    "tanode = 850 # ticks\n",
    "tick_period = 400 # ns\n",
    "NTICKS = 4096 # ticks"
   ]
  },
  {
   "cell_type": "code",
   "execution_count": null,
   "id": "dce4ab61",
   "metadata": {},
   "outputs": [],
   "source": [
    "# Compute predicted R.R. v. dE/dx\n",
    "mass_electron = 0.5109989461 # MeV https://pdg.lbl.gov/2020/listings/rpp2020-list-K-plus-minus.pdf\n",
    "mass = 105.6583745 # MeV https://pdg.lbl.gov/2020/listings/rpp2020-list-muon.pdf\n",
    "Ival = 188.0e-6\n",
    "Zval = 18.0\n",
    "Aval = 39.948\n",
    "Kfactor = 0.307075\n",
    "LAr_density_gmL = 1.3973\n",
    "\n",
    "def Calc_MPV_DEDX(pitch, T):\n",
    "    gamma = (mass+T)/mass\n",
    "    beta = pow(1.0-pow(gamma,-2.0),0.5)\n",
    "    Wmax = (2.0*mass_electron*pow(beta,2.0)*pow(gamma,2.0))/(1.0+2.0*gamma*(mass_electron/mass)+pow(mass_electron/mass,2.0))\n",
    "\n",
    "    # Medium energy \n",
    "    dens_factor = 2.0*np.log(10)*np.log10(beta*gamma)-5.2146+0.19559*pow(3.0-np.log10(beta*gamma),3.0)\n",
    "    # low energy\n",
    "    dens_factor[np.log10(beta*gamma) < 0.2] = 0.\n",
    "    # high energy\n",
    "    dens_factor[np.log10(beta*gamma) > 3.0] = (2.0*np.log(10)*np.log10(beta*gamma)-5.2146)[np.log10(beta*gamma) > 3.0]\n",
    "    dEdx_mean = LAr_density_gmL*Kfactor*(Zval/Aval)*pow(beta,-2.0)*(0.5*np.log(2.0*mass_electron*pow(beta,2.0)*pow(gamma,2.0)*Wmax*pow(Ival,-2.0))-pow(beta,2.0)-dens_factor/2.0)\n",
    "    xi = (Kfactor/2.0)*(Zval/Aval)*pow(beta,-2.0)*LAr_density_gmL*pitch\n",
    "    kappa = xi/Wmax\n",
    "    dEdx_MPV = xi*(np.log((2.0*mass_electron*pow(beta*gamma,2.0))/Ival)+np.log(xi/Ival)+0.200-pow(beta,2.0)-dens_factor)/pitch\n",
    "  \n",
    "    return dEdx_MPV\n",
    "\n",
    "def Calc_MEAN_DEDX(T):\n",
    "    gamma = (mass+T)/mass\n",
    "    beta = pow(1.0-pow(gamma,-2.0),0.5)\n",
    "    Wmax = (2.0*mass_electron*pow(beta,2.0)*pow(gamma,2.0))/(1.0+2.0*gamma*(mass_electron/mass)+pow(mass_electron/mass,2.0))\n",
    "\n",
    "    # Medium energy \n",
    "    dens_factor = 2.0*np.log(10)*np.log10(beta*gamma)-5.2146+0.19559*pow(3.0-np.log10(beta*gamma),3.0)\n",
    "    # low energy\n",
    "    dens_factor[np.log10(beta*gamma) < 0.2] = 0.\n",
    "    dens_factor[beta < 1e-6] = 0.\n",
    "    # high energy\n",
    "    dens_factor[np.log10(beta*gamma) > 3.0] = (2.0*np.log(10)*np.log10(beta*gamma)-5.2146)[np.log10(beta*gamma) > 3.0]\n",
    "    dEdx_mean = LAr_density_gmL*Kfactor*(Zval/Aval)*pow(beta,-2.0)*(0.5*np.log(2.0*mass_electron*pow(beta,2.0)*pow(gamma,2.0)*Wmax*pow(Ival,-2.0))-pow(beta,2.0)-dens_factor/2.0)\n",
    "\n",
    "    return dEdx_mean"
   ]
  },
  {
   "cell_type": "code",
   "execution_count": null,
   "id": "329e83ce",
   "metadata": {},
   "outputs": [],
   "source": [
    "KE_points_max = 1000.\n",
    "dRR = 0.01\n",
    "thisKE = KE_points_max\n",
    "\n",
    "KE_points = [thisKE]\n",
    "RR_points = [0.]\n",
    "\n",
    "while thisKE > 0.0:\n",
    "    deltaKE = Calc_MEAN_DEDX(np.array([thisKE])) * dRR\n",
    "    RR_points.append(RR_points[-1] + dRR)\n",
    "    thisKE -= deltaKE[0]\n",
    "    KE_points.append(thisKE)\n",
    "    \n",
    "KE_points = np.array(list(reversed(KE_points[:-1])))\n",
    "RR_points = np.array(RR_points[:-1])"
   ]
  },
  {
   "cell_type": "code",
   "execution_count": null,
   "id": "e7b3c5ab",
   "metadata": {},
   "outputs": [],
   "source": [
    "MPV_dEDX_points = Calc_MPV_DEDX(MEAN_PITCH, KE_points)\n",
    "\n",
    "RR2DEDX = CubicSpline(RR_points, MPV_dEDX_points)"
   ]
  },
  {
   "cell_type": "code",
   "execution_count": null,
   "id": "ccc42df9",
   "metadata": {},
   "outputs": [],
   "source": [
    "ICARUS_AV = [    \n",
    "    {\n",
    "      \"xmin\": -364.49,\n",
    "      \"xmax\": -67.94,\n",
    "      \"ymin\": -173.41,\n",
    "      \"zmin\": -909.951,\n",
    "      \"ymax\": 143.41,\n",
    "      \"zmax\": 879.951,\n",
    "    },\n",
    "    {\n",
    "      \"xmin\": 67.94,\n",
    "      \"ymin\": -173.41,\n",
    "      \"zmin\": -909.951,\n",
    "      \"xmax\": 364.49,\n",
    "      \"ymax\": 143.41,\n",
    "      \"zmax\": 879.951,\n",
    "    }\n",
    "]\n",
    "\n",
    "ICARUS_FV = [{\n",
    "        \"xmin\": ICARUS_AV[0][\"xmin\"] + 25,\n",
    "        \"ymin\": ICARUS_AV[0][\"ymin\"] + 25,\n",
    "        \"zmin\": ICARUS_AV[0][\"zmin\"] + 25,\n",
    "        \"xmax\": ICARUS_AV[0][\"xmax\"] - 25,\n",
    "        \"ymax\": ICARUS_AV[0][\"ymax\"] - 50,\n",
    "        \"zmax\": ICARUS_AV[0][\"zmax\"] - 25,\n",
    "    },\n",
    "    {\n",
    "        \"xmin\": ICARUS_AV[1][\"xmin\"] + 25,\n",
    "        \"ymin\": ICARUS_AV[1][\"ymin\"] + 25,\n",
    "        \"zmin\": ICARUS_AV[1][\"zmin\"] + 25,\n",
    "        \"xmax\": ICARUS_AV[1][\"xmax\"] - 25,\n",
    "        \"ymax\": ICARUS_AV[1][\"ymax\"] - 50,\n",
    "        \"zmax\": ICARUS_AV[1][\"zmax\"] - 25,\n",
    "    }\n",
    "]\n",
    "\n",
    "def InFV(xyz, FVs=ICARUS_FV):\n",
    "    fids = []\n",
    "    fid = xyz[0] == np.nan\n",
    "    for fv in FVs:\n",
    "        this_fid = [(xyz[i] > fv[p+\"min\"]) & (xyz[i] < fv[p+\"max\"]) for i, p in enumerate(\"xyz\")]\n",
    "        fid = fid | (this_fid[0] & this_fid[1] & this_fid[2])\n",
    "    return fid\n",
    "\n",
    "def InFVYZ(yz, FVs=ICARUS_FV):\n",
    "    fids = []\n",
    "    fid = yz[0] == np.nan\n",
    "    for fv in FVs:\n",
    "        this_fid = [(yz[i] > fv[p+\"min\"]) & (yz[i] < fv[p+\"max\"]) for i, p in enumerate(\"yz\")]\n",
    "        fid = fid | (this_fid[0] & this_fid[1])\n",
    "    return fid\n",
    "\n",
    "def isTPCE(df):\n",
    "    return df.tpc <= 1\n"
   ]
  },
  {
   "cell_type": "code",
   "execution_count": null,
   "id": "30cbe853",
   "metadata": {},
   "outputs": [],
   "source": [
    "# use the external input to build the t0\n",
    "ccross_t0_E = data.hit_max_time_p2_tpcE - tcathode_E\n",
    "ccross_t0_W = data.hit_max_time_p2_tpcW - tcathode_W\n",
    "\n",
    "data[\"ccross_t0\"] = ((ccross_t0_E + ccross_t0_W) / 2.) * tick_period\n",
    "\n",
    "has_t0 = True"
   ]
  },
  {
   "cell_type": "code",
   "execution_count": null,
   "id": "445d8977",
   "metadata": {},
   "outputs": [],
   "source": [
    "ICARUS_FV_STOPPING = [{\n",
    "        \"xmin\": ICARUS_AV[0][\"xmin\"] + 25,\n",
    "        \"ymin\": ICARUS_AV[0][\"ymin\"] + 25,\n",
    "        \"zmin\": ICARUS_AV[0][\"zmin\"] + 25,\n",
    "        \"xmax\": ICARUS_AV[0][\"xmax\"] - 25,\n",
    "        \"ymax\": ICARUS_AV[0][\"ymax\"] - 25,\n",
    "        \"zmax\": ICARUS_AV[0][\"zmax\"] - 25,\n",
    "    },\n",
    "]"
   ]
  },
  {
   "cell_type": "code",
   "execution_count": null,
   "id": "d332b786",
   "metadata": {},
   "outputs": [],
   "source": [
    "stopping_track = ~InFV([data.start_x, data.start_y, data.start_z]) &\\\n",
    "    InFV([data.end_x, data.end_y, data.end_z], ICARUS_FV_STOPPING) &\\\n",
    "    (data.dir_y < 0.) &\\\n",
    "    has_t0 &\\\n",
    "    (data.hit_min_time_p2_tpcE > 200) & (data.hit_max_time_p2_tpcE < NTICKS - 200) &\\\n",
    "    (data.hit_min_time_p2_tpcW > 200) & (data.hit_max_time_p2_tpcW < NTICKS - 200)\n",
    "    #&\\\n",
    "    #(plane2_stopcalo.dqdx_corr.groupby(\"entry\").first() / plane2_stopcalo.dqdx_corr.groupby(\"entry\").last() > 2)\n",
    "\n",
    "stopping_track.name=\"stopping\"\n",
    "stopping_track.index.name=\"entry\"\n",
    "\n",
    "stopping_track.sum() / stopping_track.size"
   ]
  },
  {
   "cell_type": "code",
   "execution_count": null,
   "id": "cf4d764f",
   "metadata": {},
   "outputs": [],
   "source": [
    "plane2branches = [\n",
    "    \"dqdx\",\n",
    "    \"time\",\n",
    "    \"tpc\",\n",
    "    \"pitch\"\n",
    "]\n",
    "plane2branches = [\"hits2.%s\" % s for s in plane2branches]"
   ]
  },
  {
   "cell_type": "code",
   "execution_count": null,
   "id": "cd27033e",
   "metadata": {},
   "outputs": [],
   "source": [
    "plane2_stopcalo = treeE.arrays([\"hits2.rr\"], library=\"pd\")#, entrystop=10000)\n",
    "plane2_oncalo = ~np.isnan(plane2_stopcalo[\"hits2.rr\"]) & (plane2_stopcalo[\"hits2.rr\"] < 200) & (plane2_stopcalo[\"hits2.rr\"] > 0.)\n",
    "plane2_stopcalo = plane2_stopcalo[plane2_oncalo]\n",
    "\n",
    "for b in plane2branches:\n",
    "    bdf = treeE.arrays([b], library=\"pd\")\n",
    "    bdf = bdf[plane2_oncalo]\n",
    "    plane2_stopcalo = plane2_stopcalo.merge(bdf, left_index=True, right_index=True, validate=\"one_to_one\")\n",
    "    del bdf"
   ]
  },
  {
   "cell_type": "code",
   "execution_count": null,
   "id": "b6c80835",
   "metadata": {},
   "outputs": [],
   "source": [
    "plane2_stopcalo.columns = [s.split(\".\")[1] for s in plane2_stopcalo.columns]\n",
    "plane2_stopcalo = plane2_stopcalo.sort_values(by=[\"entry\", \"rr\"])"
   ]
  },
  {
   "cell_type": "code",
   "execution_count": null,
   "id": "e1c0b155",
   "metadata": {},
   "outputs": [],
   "source": [
    "# Guard bad dqdx, only save tracks for which we have a ccross t0\n",
    "plane2_stopcalo = plane2_stopcalo[~np.isnan(plane2_stopcalo.dqdx)]\n",
    "plane2_stopcalo = plane2_stopcalo.join(data.ccross_t0)\n",
    "plane2_stopcalo = plane2_stopcalo[~np.isnan(plane2_stopcalo.ccross_t0)]\n",
    "\n",
    "t0 = 0\n",
    "def exp(t, *p):\n",
    "    A,tau = p\n",
    "    return A*np.exp(-(t - t0)/tau)\n",
    "\n",
    "plane2_stopcalo[\"tpcE\"] = isTPCE(plane2_stopcalo)\n",
    "plane2_stopcalo.time = (plane2_stopcalo.time * tick_period - plane2_stopcalo.ccross_t0 - tanode*tick_period) / 1000.\n",
    "\n",
    "plane2_stopcalo[\"dqdx_corr\"] = plane2_stopcalo.dqdx * exp(plane2_stopcalo.time, 1., -electron_lifetime_tpcE)\n",
    "plane2_stopcalo.loc[~plane2_stopcalo.tpcE, \"dqdx_corr\"] = plane2_stopcalo.dqdx[~plane2_stopcalo.tpcE] * exp(plane2_stopcalo.time[~plane2_stopcalo.tpcE], 1., -electron_lifetime_tpcW)\n",
    "\n",
    "plane2_stopcalo = plane2_stopcalo.drop(columns=\"ccross_t0\")"
   ]
  },
  {
   "cell_type": "code",
   "execution_count": null,
   "id": "62efda5f",
   "metadata": {},
   "outputs": [],
   "source": [
    "Rcut = 10 #cm\n",
    "dqdxcut = 1.1e3\n",
    "stopping_track_wcalo = stopping_track &\\\n",
    "    (plane2_stopcalo.dqdx[plane2_stopcalo.rr < 5].groupby(level=0).median() > dqdxcut)\n",
    "\n",
    "#& (fitvar > 25) & (data.exp_fit_R < Rcut)\n",
    "\n",
    "stopping_track_wcalo.name=\"stopping\"\n",
    "stopping_track_wcalo.index.name=\"entry\"\n",
    "\n",
    "stopping_track_wcalo.sum() / stopping_track_wcalo.size"
   ]
  },
  {
   "cell_type": "code",
   "execution_count": null,
   "id": "63cec44e",
   "metadata": {},
   "outputs": [],
   "source": [
    "if \"stopping\" in plane2_stopcalo.columns:\n",
    "    plane2_stopcalo = plane2_stopcalo.drop(columns=[\"stopping\"])\n",
    "plane2_stopcalo = plane2_stopcalo.join(stopping_track_wcalo)\n",
    "\n",
    "plane2_stopcalo = plane2_stopcalo[plane2_stopcalo.stopping]\n",
    "plane2_stopcalo = plane2_stopcalo.drop(columns=[\"stopping\"])"
   ]
  },
  {
   "cell_type": "code",
   "execution_count": null,
   "id": "0b321c09",
   "metadata": {},
   "outputs": [],
   "source": [
    "MODA = 0.930\n",
    "MODB = 0.212\n",
    "Wion = 1e3 / 4.237e7\n",
    "Efield = 0.5\n",
    "\n",
    "def recombination_corr(dQdx):\n",
    "    alpha = MODA\n",
    "    beta = MODB / (LAr_density_gmL * Efield)\n",
    "    \n",
    "    dEdx = (np.exp(beta * Wion * dQdx) - alpha) / beta\n",
    "    return dEdx"
   ]
  },
  {
   "cell_type": "code",
   "execution_count": null,
   "id": "c4f293e5",
   "metadata": {},
   "outputs": [],
   "source": [
    "def landau_gaus(X, *p):\n",
    "    mpv, eta, sigma, A = p\n",
    "    if sigma >= 100*eta:\n",
    "        sigma = eta\n",
    "    return pylandau.langau(X, mpv=mpv, eta=eta, sigma=sigma, A=A)"
   ]
  },
  {
   "cell_type": "code",
   "execution_count": null,
   "id": "51df8967",
   "metadata": {},
   "outputs": [],
   "source": [
    "plane2_stopcalo[\"dedx\"] = recombination_corr(plane2_stopcalo.dqdx_corr * 81.27)"
   ]
  },
  {
   "cell_type": "code",
   "execution_count": null,
   "id": "4767ec40",
   "metadata": {},
   "outputs": [],
   "source": [
    "binx = np.linspace(0., 200., 201)\n",
    "biny = np.linspace(0.5, 6, 61)\n",
    "\n",
    "varx = plane2_stopcalo.rr\n",
    "vary = plane2_stopcalo.dedx\n",
    "\n",
    "_ = plt.hist2d(varx, vary, bins=[binx, biny])#, norm=colors.LogNorm())\n",
    "plt.colorbar()\n",
    "plt.xlabel(\"Residual Range [cm]\")\n",
    "plt.ylabel(\"dE/dx [ADC/cm]\")\n"
   ]
  },
  {
   "cell_type": "code",
   "execution_count": null,
   "id": "e17bb7e0",
   "metadata": {},
   "outputs": [],
   "source": [
    "rrs = np.linspace(5., 200., 40)\n",
    "# rrs = np.linspace(150, 155., 2)\n",
    "rrhis = rrs[1:]\n",
    "rrlos = rrs[:-1]\n",
    "RRs = (rrhis + rrlos)/2.\n",
    "bins = np.linspace(0, 6, 61)\n",
    "bin_centers = (bins[1:] + bins[:-1]) / 2.\n",
    "\n",
    "MPV_dedxs = []\n",
    "\n",
    "langau_params = []\n",
    "langau_param_errs = []\n",
    "\n",
    "fit_scale = 100.\n",
    "\n",
    "for i,(rrlo, rrhi) in enumerate(zip(rrlos, rrhis)):\n",
    "    #if i > 5: break\n",
    "    when = (plane2_stopcalo.pitch < 0.4) & (plane2_stopcalo.pitch > 0.3) &\\\n",
    "        (plane2_stopcalo.rr > rrlo) & (plane2_stopcalo.rr < rrhi)\n",
    "    N,_ = np.histogram(plane2_stopcalo.dedx[when], bins=bins)\n",
    "    \n",
    "    p0 = [1.5*fit_scale, 0.1*fit_scale, 0.1*fit_scale, np.max(N)]\n",
    "    popt, perr = curve_fit(landau_gaus, bin_centers * fit_scale, N, p0=p0, maxfev=10_000, sigma=np.maximum(np.sqrt(N), 1))\n",
    "    MPV_dedxs.append(popt[0] / fit_scale)\n",
    "    langau_params.append(popt)\n",
    "    langau_param_errs.append(perr)\n",
    "    \n",
    "MPV_dedxs = np.array(MPV_dedxs)"
   ]
  },
  {
   "cell_type": "code",
   "execution_count": null,
   "id": "696464f1",
   "metadata": {},
   "outputs": [],
   "source": [
    "langau_params_unscaled = []\n",
    "for i in range(len(langau_params)):\n",
    "    langau_params_unscaled.append( np.hstack([langau_params[i][:3] / fit_scale, [langau_params[i][3]]]) )"
   ]
  },
  {
   "cell_type": "code",
   "execution_count": null,
   "id": "f71bea92",
   "metadata": {},
   "outputs": [],
   "source": [
    "# Plot fits\n",
    "\n",
    "for IND in range(len(RRs)):\n",
    "    plt.figure(IND)\n",
    "    when = (plane2_stopcalo.pitch < 0.4) & (plane2_stopcalo.pitch > 0.3) &\\\n",
    "            (plane2_stopcalo.rr > rrlos[IND]) & (plane2_stopcalo.rr < rrhis[IND])\n",
    "\n",
    "    plt.hist(plane2_stopcalo.dedx[when], bins=bins, label=\"Data\")\n",
    "    plt.plot(bin_centers, landau_gaus(bin_centers * fit_scale, *langau_params[IND]), label=\"Landau$\\circledast$Gaussian Fit\")\n",
    "    plt.legend(fontsize=14)\n",
    "    plt.text(0.5, 0.2, \"%.0f < R.R. < %.0f cm\\n0.3 < pitch < 0.4 cm\\n\\nMPV = %.2f MeV/cm\\n$\\eta$ = %.2f MeV/cm\\n$\\sigma$ = %.2f MeV/cm\" % tuple([rrlos[IND], rrhis[IND]] + list(langau_params_unscaled[IND][:3])),\n",
    "            fontsize=14, transform=plt.gca().transAxes)\n",
    "    \n",
    "    plt.xlabel(\"dE/dx [MeV/cm]\")\n",
    "    plt.ylabel(\"# Depositions\")\n",
    "    if dosave: plt.savefig(savedir + \"dedx_langau_fit_RR%.0f_%.0f.png\" % (rrlos[IND], rrhis[IND]))"
   ]
  },
  {
   "cell_type": "code",
   "execution_count": null,
   "id": "6dcf060c",
   "metadata": {},
   "outputs": [],
   "source": [
    "error = 0.01"
   ]
  },
  {
   "cell_type": "code",
   "execution_count": null,
   "id": "f67a524a",
   "metadata": {},
   "outputs": [],
   "source": [
    "plt.plot(RRs, RR2DEDX(RRs), label=\"Prediction\")\n",
    "plt.errorbar(RRs, MPV_dedxs, yerr=MPV_dedxs*error, xerr=2.5, ls=\"none\", label=\"Data Measured M.P.V.\")\n",
    "plt.legend()\n",
    "plt.xlabel(\"Residual Range [cm]\")\n",
    "plt.ylabel(\"dE/dx [MeV/cm]\")\n",
    "plt.xlim([50, 200])\n",
    "plt.ylim([1.5, 1.8])\n",
    "\n",
    "if dosave: plt.savefig(savedir + \"Edx_predictionVdata.png\")"
   ]
  },
  {
   "cell_type": "code",
   "execution_count": null,
   "id": "9bfd6d3b",
   "metadata": {},
   "outputs": [],
   "source": [
    "IND = 30\n",
    "\n",
    "when = (plane2_stopcalo.pitch < 0.4) & (plane2_stopcalo.pitch > 0.3) &\\\n",
    "            (plane2_stopcalo.rr > rrlos[IND]) & (plane2_stopcalo.rr < rrhis[IND])\n",
    "plt.figure(0)\n",
    "N,_,_ = plt.hist(plane2_stopcalo.dedx[when], bins=bins)\n",
    "\n",
    "p0 = [1.5*fit_scale, 0.1*fit_scale, 0.1*fit_scale, np.max(N)]\n",
    "popt, perr = curve_fit(landau_gaus, bin_centers * fit_scale, N, p0=p0, maxfev=10_000, sigma=np.maximum(np.sqrt(N), 1))\n",
    "print(popt[0] / fit_scale)\n",
    "plt.plot(bin_centers, landau_gaus(bin_centers * fit_scale, *popt))\n",
    "\n",
    "\n",
    "dqdx_bins = np.linspace(200, 2000, 73)\n",
    "dqdx_bin_centers = (dqdx_bins[1:] + dqdx_bins[:-1]) / 2.\n",
    "plt.figure(1)\n",
    "N,_,_ = plt.hist(plane2_stopcalo.dqdx_corr[when], bins=dqdx_bins)\n",
    "\n",
    "p0 = [600, 35, 100, np.max(N)]\n",
    "popt, perr = curve_fit(landau_gaus, dqdx_bin_centers, N, p0=p0, maxfev=10_000, sigma=np.maximum(np.sqrt(N), 1))\n",
    "plt.plot(dqdx_bin_centers, landau_gaus(dqdx_bin_centers, *popt))\n",
    "\n",
    "print(recombination_corr(popt[0] * 81.27))"
   ]
  },
  {
   "cell_type": "code",
   "execution_count": null,
   "id": "c522d8dc",
   "metadata": {},
   "outputs": [],
   "source": []
  }
 ],
 "metadata": {
  "kernelspec": {
   "display_name": "Python 3",
   "language": "python",
   "name": "python3"
  },
  "language_info": {
   "codemirror_mode": {
    "name": "ipython",
    "version": 3
   },
   "file_extension": ".py",
   "mimetype": "text/x-python",
   "name": "python",
   "nbconvert_exporter": "python",
   "pygments_lexer": "ipython3",
   "version": "3.8.3"
  }
 },
 "nbformat": 4,
 "nbformat_minor": 5
}
